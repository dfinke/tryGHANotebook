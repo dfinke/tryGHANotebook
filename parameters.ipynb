{
 "cells": [
  {
   "cell_type": "code",
   "execution_count": 23,
   "metadata": {
    "execution": {
     "iopub.execute_input": "2020-09-24T18:17:36.150Z",
     "iopub.status.busy": "2020-09-24T18:17:36.145Z",
     "iopub.status.idle": "2020-09-24T18:17:36.157Z"
    },
    "tags": [
     "parameters"
    ]
   },
   "outputs": [],
   "source": [
    "$alpha=1.2\n",
    "$ratio=3.7\n",
    "$a = 1"
   ]
  },
  {
   "cell_type": "code",
   "execution_count": 25,
   "metadata": {},
   "outputs": [
    {
     "name": "stdout",
     "output_type": "stream",
     "text": [
      "alpha = 1.2, ratio = 3.7, and alpha * ratio = 4.44\r\n"
     ]
    }
   ],
   "source": [
    "\"alpha = {0}, ratio = {1}, and alpha * ratio = {2}\" -f $alpha, $ratio, ($alpha * $ratio)"
   ]
  },
  {
   "cell_type": "code",
   "execution_count": 27,
   "metadata": {},
   "outputs": [],
   "source": [
    "$twice = $a * 2"
   ]
  },
  {
   "cell_type": "code",
   "execution_count": 28,
   "metadata": {},
   "outputs": [
    {
     "name": "stdout",
     "output_type": "stream",
     "text": [
      "a = 1 and twice = 2\r\n"
     ]
    }
   ],
   "source": [
    "\"a = \" + $a + \" and twice = \" + $twice"
   ]
  }
 ],
 "metadata": {
  "celltoolbar": "Tags",
  "kernelspec": {
   "display_name": ".NET (PowerShell)",
   "language": "PowerShell",
   "name": ".net-powershell"
  },
  "language_info": {
   "file_extension": ".ps1",
   "mimetype": "text/x-powershell",
   "name": "PowerShell",
   "pygments_lexer": "powershell",
   "version": "7.0"
  },
  "nteract": {
   "version": "0.25.0"
  }
 },
 "nbformat": 4,
 "nbformat_minor": 4
}
